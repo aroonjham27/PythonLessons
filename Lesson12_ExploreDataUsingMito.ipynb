{
 "cells": [
  {
   "cell_type": "code",
   "execution_count": 1,
   "metadata": {},
   "outputs": [
    {
     "data": {
      "application/vnd.jupyter.widget-view+json": {
       "model_id": "66991e40e9b84896a1275d74288a3af6",
       "version_major": 2,
       "version_minor": 0
      },
      "text/plain": [
       "MitoWidget(analysis_data_json='{\"analysisName\": \"UUID-20ac2666-79b7-4e87-83e8-2a8cb659cdca\", \"code\": {\"imports…"
      ]
     },
     "metadata": {},
     "output_type": "display_data"
    }
   ],
   "source": [
    "import mitosheet\n",
    "mitosheet.sheet()"
   ]
  },
  {
   "cell_type": "code",
   "execution_count": null,
   "metadata": {},
   "outputs": [],
   "source": [
    "# MITO CODE START (DO NOT EDIT)\n",
    "\n",
    "from mitosheet import * # Import necessary functions from Mito\n",
    "register_analysis('UUID-20ac2666-79b7-4e87-83e8-2a8cb659cdca') # Let Mito know which analysis is being run\n",
    "\n",
    "# Imported C:\\Users\\u6041476\\heart.csv\n",
    "import pandas as pd\n",
    "heart_csv = pd.read_csv(r'C:\\Users\\u6041476\\heart.csv')\n",
    "\n",
    "# Added column new-column-3zk2 to heart_csv\n",
    "heart_csv.insert(1, 'new-column-3zk2', 0)\n",
    "\n",
    "# Reordered new-column-3zk2 in heart_csv\n",
    "heart_csv_columns = [col for col in heart_csv.columns if col != 'new-column-3zk2']\n",
    "heart_csv_columns.insert(14, 'new-column-3zk2')\n",
    "heart_csv = heart_csv[heart_csv_columns]\n",
    "\n",
    "# Set new-column-3zk2 in heart_csv to =if(goal>0,1,0)\n",
    "heart_csv['new-column-3zk2'] = IF(heart_csv['goal']>0,1,0)\n",
    "\n",
    "# Renamed new-column-3zk2 to Target in heart_csv\n",
    "heart_csv.rename(columns={\"new-column-3zk2\": \"Target\"}, inplace=True)\n",
    "\n",
    "# Pivoted heart_csv into df2\n",
    "unused_columns = heart_csv.columns.difference(set(['Target']).union(set([])).union(set({'age'})))\n",
    "tmp_df = heart_csv.drop(unused_columns, axis=1)\n",
    "pivot_table = tmp_df.pivot_table(\n",
    "    index=['Target'],\n",
    "    values=['age'],\n",
    "    aggfunc={'age': ['mean']}\n",
    ")\n",
    "\n",
    "# Flatten the column headers\n",
    "pivot_table.columns = [flatten_column_header(col) for col in pivot_table.columns.values]\n",
    "\n",
    "# Reset the column name and the indexes\n",
    "df2 = pivot_table.reset_index()\n",
    "\n",
    "# Renamed df2 to AvgAgeByTarget\n",
    "AvgAgeByTarget = df2\n",
    "\n",
    "# Pivoted heart_csv into df3\n",
    "unused_columns = heart_csv.columns.difference(set(['Target']).union(set([])).union(set({'age'})))\n",
    "tmp_df = heart_csv.drop(unused_columns, axis=1)\n",
    "pivot_table = tmp_df.pivot_table(\n",
    "    index=['Target'],\n",
    "    values=['age'],\n",
    "    aggfunc={'age': ['median']}\n",
    ")\n",
    "\n",
    "# Flatten the column headers\n",
    "pivot_table.columns = [flatten_column_header(col) for col in pivot_table.columns.values]\n",
    "\n",
    "# Reset the column name and the indexes\n",
    "df3 = pivot_table.reset_index()\n",
    "\n",
    "# Renamed df3 to MedianAgeByTarget\n",
    "MedianAgeByTarget = df3\n",
    "\n",
    "# Pivoted heart_csv into df4\n",
    "unused_columns = heart_csv.columns.difference(set(['Target']).union(set([])).union(set({'sex'})))\n",
    "tmp_df = heart_csv.drop(unused_columns, axis=1)\n",
    "pivot_table = tmp_df.pivot_table(\n",
    "    index=['Target'],\n",
    "    values=['sex'],\n",
    "    aggfunc={'sex': ['mean']}\n",
    ")\n",
    "\n",
    "# Flatten the column headers\n",
    "pivot_table.columns = [flatten_column_header(col) for col in pivot_table.columns.values]\n",
    "\n",
    "# Reset the column name and the indexes\n",
    "df4 = pivot_table.reset_index()\n",
    "\n",
    "# Renamed df4 to AvgSexByTarget\n",
    "AvgSexByTarget = df4\n",
    "\n",
    "  \n",
    "# MITO CODE END (DO NOT EDIT)"
   ]
  },
  {
   "cell_type": "code",
   "execution_count": null,
   "metadata": {},
   "outputs": [],
   "source": [
    "## Try to use filters and edit data type (filter icon + Abc icon)\n",
    "## Use summary stats under filters to explore summary stats"
   ]
  },
  {
   "cell_type": "code",
   "execution_count": null,
   "metadata": {},
   "outputs": [],
   "source": [
    "## create graph first in Mito\n",
    "# Import plotly and create a figure\n",
    "import plotly.graph_objects as go\n",
    "fig = go.Figure()\n",
    "\n",
    "\n",
    "# Add the histogram traces to the figure\n",
    "for column_header in ['age']:\n",
    "    fig.add_trace(go.Histogram(x=heart_csv[column_header], name=column_header))\n",
    "\n",
    "# Update the layout\n",
    "# See Plotly documentation for customizations: https://plotly.com/python/reference/histogram/\n",
    "fig.update_layout(\n",
    "\txaxis_title='age',\n",
    "    title='age frequencies',\n",
    "    barmode='group'\n",
    ")\n",
    "fig.show(renderer=\"iframe\")"
   ]
  },
  {
   "cell_type": "code",
   "execution_count": null,
   "metadata": {},
   "outputs": [],
   "source": [
    "## formulas\n",
    "## https://docs.trymito.io/how-to/interacting-with-your-data/mito-spreadsheet-formulas"
   ]
  }
 ],
 "metadata": {
  "kernelspec": {
   "display_name": "Python 3",
   "language": "python",
   "name": "python3"
  },
  "language_info": {
   "codemirror_mode": {
    "name": "ipython",
    "version": 3
   },
   "file_extension": ".py",
   "mimetype": "text/x-python",
   "name": "python",
   "nbconvert_exporter": "python",
   "pygments_lexer": "ipython3",
   "version": "3.7.6"
  }
 },
 "nbformat": 4,
 "nbformat_minor": 4
}
